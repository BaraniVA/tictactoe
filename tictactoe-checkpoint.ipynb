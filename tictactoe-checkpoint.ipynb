{
 "cells": [
  {
   "cell_type": "code",
   "execution_count": 1,
   "id": "8ba0bcaa",
   "metadata": {},
   "outputs": [],
   "source": [
    "import random"
   ]
  },
  {
   "cell_type": "code",
   "execution_count": 2,
   "id": "78dabc95",
   "metadata": {},
   "outputs": [],
   "source": [
    "def draw_board(board):\n",
    "    # This function prints out the board that it was passed.\n",
    "    # \"board\" is a list of 10 strings representing the board (ignore index 0)\n",
    "    print(board[7] + '|' + board[8] + '|' + board[9])\n",
    "    print('-+-+-')\n",
    "    print(board[4] + '|' + board[5] + '|' + board[6])\n",
    "    print('-+-+-')\n",
    "    print(board[1] + '|' + board[2] + '|' + board[3])"
   ]
  },
  {
   "cell_type": "code",
   "execution_count": 3,
   "id": "b15e2273",
   "metadata": {},
   "outputs": [],
   "source": [
    "def input_player_letter():\n",
    "    # Lets the player type which letter they want to be.\n",
    "    # Returns a list with the player's letter as the first item and the computer's letter as the second.\n",
    "    letter = ''\n",
    "    while not (letter == 'X' or letter == 'O'):\n",
    "        print('Do you want to be X or O?')\n",
    "        letter = input().upper()\n",
    "# the first element in the tuple is the player's letter, the second is the computer's letter.\n",
    "    if letter == 'X':\n",
    "        return ['X', 'O']\n",
    "    else:\n",
    "        return ['O', 'X']"
   ]
  },
  {
   "cell_type": "code",
   "execution_count": 4,
   "id": "f76253c9",
   "metadata": {},
   "outputs": [],
   "source": [
    "def who_goes_first():\n",
    "    # Randomly choose the player who goes first.\n",
    "    if random.randint(0, 1) == 0:\n",
    "        return 'computer'\n",
    "    else:\n",
    "        return 'player'"
   ]
  },
  {
   "cell_type": "code",
   "execution_count": 5,
   "id": "2206193b",
   "metadata": {},
   "outputs": [],
   "source": [
    "def make_move(board, letter, move):\n",
    "    board[move] = letter"
   ]
  },
  {
   "cell_type": "code",
   "execution_count": 6,
   "id": "a34d0ab4",
   "metadata": {},
   "outputs": [],
   "source": [
    "def is_winner(bo, le):\n",
    "    # Given a board and a player's letter, this function returns True if that player has won.\n",
    "    # We use bo instead of board and le instead of letter so we don't have to type as much.\n",
    "    return ((bo[7] == le and bo[8] == le and bo[9] == le) or # across the top\n",
    "    (bo[4] == le and bo[5] == le and bo[6] == le) or # across the middle\n",
    "    (bo[1] == le and bo[2] == le and bo[3] == le) or # across the bottom\n",
    "    (bo[7] == le and bo[4] == le and bo[1] == le) or # down the left side\n",
    "    (bo[8] == le and bo[5] == le and bo[2] == le) or # down the middle\n",
    "    (bo[9] == le and bo[6] == le and bo[3] == le) or # down the right side\n",
    "    (bo[7] == le and bo[5] == le and bo[3] == le) or # diagonal\n",
    "    (bo[9] == le and bo[5] == le and bo[1] == le)) # diagonal"
   ]
  },
  {
   "cell_type": "code",
   "execution_count": 7,
   "id": "654e7214",
   "metadata": {},
   "outputs": [],
   "source": [
    "def get_board_copy(board):\n",
    "    # Make a duplicate of the board list and return it the duplicate.\n",
    "    dupeBoard = []\n",
    "\n",
    "    for i in board:\n",
    "        dupeBoard.append(i)\n",
    "\n",
    "    return dupeBoard"
   ]
  },
  {
   "cell_type": "code",
   "execution_count": 8,
   "id": "1a110dea",
   "metadata": {},
   "outputs": [],
   "source": [
    "def is_space_free(board, move):\n",
    "    # Return true if the passed move is free on the passed board.\n",
    "    return board[move] == ' '"
   ]
  },
  {
   "cell_type": "code",
   "execution_count": 9,
   "id": "daff4206",
   "metadata": {},
   "outputs": [],
   "source": [
    "def get_player_move(board):\n",
    "# Let the player type in their move.\n",
    "    move = ' '\n",
    "    while move not in '1 2 3 4 5 6 7 8 9'.split() or not is_space_free(board, int(move)):\n",
    "        print('What is your next move? (1-9)')\n",
    "        move = input()\n",
    "    return int(move)"
   ]
  },
  {
   "cell_type": "code",
   "execution_count": 10,
   "id": "2c34efcc",
   "metadata": {},
   "outputs": [],
   "source": [
    "def choose_random_move_from_list(board, movesList):\n",
    "# Returns a valid move from the passed list on the passed board.\n",
    "# Returns None if there is no valid move.\n",
    "    possibleMoves = []\n",
    "    for i in movesList:\n",
    "        if is_space_free(board, i):\n",
    "            possibleMoves.append(i)\n",
    "        if len(possibleMoves) != 0:\n",
    "            return random.choice(possibleMoves)\n",
    "        else:\n",
    "            return None\n"
   ]
  },
  {
   "cell_type": "code",
   "execution_count": 11,
   "id": "ec87c261",
   "metadata": {},
   "outputs": [
    {
     "name": "stdout",
     "output_type": "stream",
     "text": [
      "Welcome to Tic Tac Toe!\n"
     ]
    }
   ],
   "source": [
    "def get_computer_move(board, computerLetter):\n",
    "    # Given a board and the computer's letter, determine where to move and return that move.\n",
    "    if computerLetter == 'X':\n",
    "        playerLetter = 'O'\n",
    "    else:\n",
    "        playerLetter = 'X'\n",
    "\n",
    "    # Here is our algorithm for our Tic Tac Toe AI:\n",
    "    # First, check if we can win in the next move\n",
    "    for i in range(1, 10):\n",
    "        copy = get_board_copy(board)\n",
    "        if is_space_free(copy, i):\n",
    "            make_move(copy, computerLetter, i)\n",
    "            if is_winner(copy, computerLetter):\n",
    "                return i\n",
    "\n",
    "    # Check if the player could win on their next move, and block them.\n",
    "    for i in range(1, 10):\n",
    "        copy = get_board_copy(board)\n",
    "        if is_space_free(copy, i):\n",
    "            make_move(copy, playerLetter, i)\n",
    "            if is_winner(copy, playerLetter):\n",
    "                return i\n",
    "\n",
    "    # Try to take one of the corners, if they are free.\n",
    "    move = choose_random_move_from_list(board, [1, 3, 7, 9])\n",
    "    if move != None:\n",
    "        return move\n",
    "\n",
    "    # Try to take the center, if it is free.\n",
    "    if is_space_free(board, 5):\n",
    "        return 5\n",
    "\n",
    "    # Move on one of the sides.\n",
    "    return choose_random_move_from_list(board, [2, 4, 6, 8])\n",
    "\n",
    "def is_board_full(board):\n",
    "    # Return True if every space on the board has been taken. Otherwise return False.\n",
    "    for i in range(1, 10):\n",
    "        if is_space_free(board, i):\n",
    "            return False\n",
    "    return True\n",
    "\n",
    "print('Welcome to Tic Tac Toe!')"
   ]
  },
  {
   "cell_type": "code",
   "execution_count": null,
   "id": "80b65bb1",
   "metadata": {},
   "outputs": [],
   "source": [
    "while True:\n",
    "    # Reset the board\n",
    "    theBoard = [' '] * 10\n",
    "    playerLetter, computerLetter = input_player_letter()\n",
    "    turn = who_goes_first()\n",
    "    print('The ' + turn + ' will go first.')\n",
    "    gameIsPlaying = True\n",
    "\n",
    "    while gameIsPlaying:\n",
    "        if turn == 'player':\n",
    "            # Player's turn.\n",
    "            draw_board(theBoard)\n",
    "            move = get_player_move(theBoard)\n",
    "            make_move(theBoard, playerLetter, move)\n",
    "\n",
    "            if is_winner(theBoard, playerLetter):\n",
    "                draw_board(theBoard)\n",
    "                print('Hooray! You have won the game!')\n",
    "                gameIsPlaying = False\n",
    "            else:\n",
    "                if is_board_full(theBoard):\n",
    "                    draw_board(theBoard)\n",
    "                    print('The game is a tie!')\n",
    "                    break\n",
    "                else:\n",
    "                    turn = 'computer'\n",
    "\n",
    "        else:\n",
    "            # Computer's turn.\n",
    "            move = get_computer_move(theBoard, computerLetter)\n",
    "            make_move(theBoard, computerLetter, move)\n",
    "\n",
    "            if is_winner(theBoard, computerLetter):\n",
    "                draw_board(theBoard)\n",
    "                print('The computer has beaten you! You lose.')\n",
    "                gameIsPlaying = False\n",
    "            else:\n",
    "                if is_board_full(theBoard):\n",
    "                    draw_board(theBoard)\n",
    "                    print('The game is a tie!')\n",
    "                    break\n",
    "                else:\n",
    "                    turn = 'player'\n",
    "\n"
   ]
  },
  {
   "cell_type": "code",
   "execution_count": null,
   "id": "4a3f6c37",
   "metadata": {},
   "outputs": [],
   "source": []
  }
 ],
 "metadata": {
  "kernelspec": {
   "display_name": "Python 3 (ipykernel)",
   "language": "python",
   "name": "python3"
  },
  "language_info": {
   "codemirror_mode": {
    "name": "ipython",
    "version": 3
   },
   "file_extension": ".py",
   "mimetype": "text/x-python",
   "name": "python",
   "nbconvert_exporter": "python",
   "pygments_lexer": "ipython3",
   "version": "3.9.13"
  }
 },
 "nbformat": 4,
 "nbformat_minor": 5
}
